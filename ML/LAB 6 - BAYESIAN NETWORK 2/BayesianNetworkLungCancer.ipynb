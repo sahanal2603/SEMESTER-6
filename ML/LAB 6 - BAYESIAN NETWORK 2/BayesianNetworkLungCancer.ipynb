{
  "nbformat": 4,
  "nbformat_minor": 0,
  "metadata": {
    "colab": {
      "name": "BayesianNetworkLungCancer.ipynb",
      "provenance": [],
      "collapsed_sections": []
    },
    "kernelspec": {
      "name": "python3",
      "display_name": "Python 3"
    },
    "language_info": {
      "name": "python"
    }
  },
  "cells": [
    {
      "cell_type": "markdown",
      "metadata": {
        "id": "2w6RTcZ8-L9l"
      },
      "source": [
        "Program for the illustration of Bayesian Belief Networks using 5 nodes using Lung Cancer data. (The Conditional Probabilities are given)."
      ]
    },
    {
      "cell_type": "code",
      "metadata": {
        "colab": {
          "base_uri": "https://localhost:8080/"
        },
        "id": "FshcPlIY4Vn6",
        "outputId": "167cdf5f-e443-4130-d5e3-2817a07f579d"
      },
      "source": [
        "!pip install pgmpy"
      ],
      "execution_count": 1,
      "outputs": [
        {
          "output_type": "stream",
          "text": [
            "Collecting pgmpy\n",
            "\u001b[?25l  Downloading https://files.pythonhosted.org/packages/a3/0e/d9fadbfaa35e010c04d43acd3ae9fbefec98897dd7d61a6b7eb5a8b34072/pgmpy-0.1.14-py3-none-any.whl (331kB)\n",
            "\r\u001b[K     |█                               | 10kB 13.7MB/s eta 0:00:01\r\u001b[K     |██                              | 20kB 12.3MB/s eta 0:00:01\r\u001b[K     |███                             | 30kB 8.7MB/s eta 0:00:01\r\u001b[K     |████                            | 40kB 7.7MB/s eta 0:00:01\r\u001b[K     |█████                           | 51kB 4.3MB/s eta 0:00:01\r\u001b[K     |██████                          | 61kB 4.8MB/s eta 0:00:01\r\u001b[K     |███████                         | 71kB 4.8MB/s eta 0:00:01\r\u001b[K     |████████                        | 81kB 5.2MB/s eta 0:00:01\r\u001b[K     |█████████                       | 92kB 5.3MB/s eta 0:00:01\r\u001b[K     |█████████▉                      | 102kB 5.6MB/s eta 0:00:01\r\u001b[K     |██████████▉                     | 112kB 5.6MB/s eta 0:00:01\r\u001b[K     |███████████▉                    | 122kB 5.6MB/s eta 0:00:01\r\u001b[K     |████████████▉                   | 133kB 5.6MB/s eta 0:00:01\r\u001b[K     |█████████████▉                  | 143kB 5.6MB/s eta 0:00:01\r\u001b[K     |██████████████▉                 | 153kB 5.6MB/s eta 0:00:01\r\u001b[K     |███████████████▉                | 163kB 5.6MB/s eta 0:00:01\r\u001b[K     |████████████████▉               | 174kB 5.6MB/s eta 0:00:01\r\u001b[K     |█████████████████▉              | 184kB 5.6MB/s eta 0:00:01\r\u001b[K     |██████████████████▉             | 194kB 5.6MB/s eta 0:00:01\r\u001b[K     |███████████████████▊            | 204kB 5.6MB/s eta 0:00:01\r\u001b[K     |████████████████████▊           | 215kB 5.6MB/s eta 0:00:01\r\u001b[K     |█████████████████████▊          | 225kB 5.6MB/s eta 0:00:01\r\u001b[K     |██████████████████████▊         | 235kB 5.6MB/s eta 0:00:01\r\u001b[K     |███████████████████████▊        | 245kB 5.6MB/s eta 0:00:01\r\u001b[K     |████████████████████████▊       | 256kB 5.6MB/s eta 0:00:01\r\u001b[K     |█████████████████████████▊      | 266kB 5.6MB/s eta 0:00:01\r\u001b[K     |██████████████████████████▊     | 276kB 5.6MB/s eta 0:00:01\r\u001b[K     |███████████████████████████▊    | 286kB 5.6MB/s eta 0:00:01\r\u001b[K     |████████████████████████████▊   | 296kB 5.6MB/s eta 0:00:01\r\u001b[K     |█████████████████████████████▋  | 307kB 5.6MB/s eta 0:00:01\r\u001b[K     |██████████████████████████████▋ | 317kB 5.6MB/s eta 0:00:01\r\u001b[K     |███████████████████████████████▋| 327kB 5.6MB/s eta 0:00:01\r\u001b[K     |████████████████████████████████| 337kB 5.6MB/s \n",
            "\u001b[?25hRequirement already satisfied: pandas in /usr/local/lib/python3.7/dist-packages (from pgmpy) (1.1.5)\n",
            "Requirement already satisfied: networkx in /usr/local/lib/python3.7/dist-packages (from pgmpy) (2.5.1)\n",
            "Requirement already satisfied: pyparsing in /usr/local/lib/python3.7/dist-packages (from pgmpy) (2.4.7)\n",
            "Requirement already satisfied: scipy in /usr/local/lib/python3.7/dist-packages (from pgmpy) (1.4.1)\n",
            "Requirement already satisfied: joblib in /usr/local/lib/python3.7/dist-packages (from pgmpy) (1.0.1)\n",
            "Requirement already satisfied: scikit-learn in /usr/local/lib/python3.7/dist-packages (from pgmpy) (0.22.2.post1)\n",
            "Requirement already satisfied: statsmodels in /usr/local/lib/python3.7/dist-packages (from pgmpy) (0.10.2)\n",
            "Requirement already satisfied: torch in /usr/local/lib/python3.7/dist-packages (from pgmpy) (1.8.1+cu101)\n",
            "Requirement already satisfied: numpy in /usr/local/lib/python3.7/dist-packages (from pgmpy) (1.19.5)\n",
            "Requirement already satisfied: tqdm in /usr/local/lib/python3.7/dist-packages (from pgmpy) (4.41.1)\n",
            "Requirement already satisfied: pytz>=2017.2 in /usr/local/lib/python3.7/dist-packages (from pandas->pgmpy) (2018.9)\n",
            "Requirement already satisfied: python-dateutil>=2.7.3 in /usr/local/lib/python3.7/dist-packages (from pandas->pgmpy) (2.8.1)\n",
            "Requirement already satisfied: decorator<5,>=4.3 in /usr/local/lib/python3.7/dist-packages (from networkx->pgmpy) (4.4.2)\n",
            "Requirement already satisfied: patsy>=0.4.0 in /usr/local/lib/python3.7/dist-packages (from statsmodels->pgmpy) (0.5.1)\n",
            "Requirement already satisfied: typing-extensions in /usr/local/lib/python3.7/dist-packages (from torch->pgmpy) (3.7.4.3)\n",
            "Requirement already satisfied: six>=1.5 in /usr/local/lib/python3.7/dist-packages (from python-dateutil>=2.7.3->pandas->pgmpy) (1.15.0)\n",
            "Installing collected packages: pgmpy\n",
            "Successfully installed pgmpy-0.1.14\n"
          ],
          "name": "stdout"
        }
      ]
    },
    {
      "cell_type": "code",
      "metadata": {
        "id": "-7FfBvv84f_V"
      },
      "source": [
        "from pgmpy.models import BayesianModel\n",
        "from pgmpy.factors.discrete import TabularCPD\n",
        "from pgmpy.inference import VariableElimination"
      ],
      "execution_count": 2,
      "outputs": []
    },
    {
      "cell_type": "code",
      "metadata": {
        "colab": {
          "base_uri": "https://localhost:8080/"
        },
        "id": "MaFKmXFJ42iC",
        "outputId": "66159a31-b766-49e0-f130-12c911ed21ab"
      },
      "source": [
        "#Define a structure with nodes and edge\n",
        "cancer_model = BayesianModel([('Pollution', 'Cancer'),\n",
        "                              ('Smoker', 'Cancer'),\n",
        "                              ('Cancer', 'XRay'),\n",
        "                              ('Cancer', 'Dyspnoea')])\n",
        "\n",
        "print('Bayesian network nodes are: ')\n",
        "print('\\t',cancer_model.nodes())\n",
        "print('Bayesian network edges are: ')\n",
        "print('\\t',cancer_model.edges())"
      ],
      "execution_count": 4,
      "outputs": [
        {
          "output_type": "stream",
          "text": [
            "Bayesian network nodes are: \n",
            "\t ['Pollution', 'Cancer', 'Smoker', 'XRay', 'Dyspnoea']\n",
            "Bayesian network edges are: \n",
            "\t [('Pollution', 'Cancer'), ('Cancer', 'XRay'), ('Cancer', 'Dyspnoea'), ('Smoker', 'Cancer')]\n"
          ],
          "name": "stdout"
        }
      ]
    },
    {
      "cell_type": "code",
      "metadata": {
        "id": "_tjeE9MF5yGg"
      },
      "source": [
        "#Creation of Conditional Probability Table\n",
        "\n",
        "cpd_poll = TabularCPD(variable='Pollution', variable_card=2,\n",
        "                      values=[[0.9],[0.1]])\n",
        "cpd_smoke = TabularCPD(variable='Smoker', variable_card=2,\n",
        "                       values=[[0.3],[0.7]])\n",
        "cpd_cancer = TabularCPD(variable='Cancer', variable_card=2,\n",
        "                        values=[[0.03,0.05,0.001,0.02],\n",
        "                                [0.97,0.95,0.999,0.98]],\n",
        "                        evidence=['Smoker','Pollution'],\n",
        "                        evidence_card=[2,2])\n",
        "cpd_xray = TabularCPD(variable='XRay', variable_card=2,\n",
        "                      values=[[0.9,0.2],[0.1,0.8]],\n",
        "                      evidence=['Cancer'],\n",
        "                      evidence_card=[2])\n",
        "cpd_dysp = TabularCPD(variable='Dyspnoea', variable_card=2,\n",
        "                      values=[[0.65,0.3],[0.35,0.7]],\n",
        "                      evidence=['Cancer'],\n",
        "                      evidence_card=[2])"
      ],
      "execution_count": 9,
      "outputs": []
    },
    {
      "cell_type": "code",
      "metadata": {
        "colab": {
          "base_uri": "https://localhost:8080/"
        },
        "id": "uI-LeqvN8k0W",
        "outputId": "d846aabb-ff96-41ac-e658-4c135079f6e7"
      },
      "source": [
        "#Associating the parameters with the model structure\n",
        "\n",
        "cancer_model.add_cpds(cpd_poll, cpd_smoke, cpd_cancer, cpd_xray, cpd_dysp)\n",
        "print('Model generated by adding conditional probability distributions(cpds)')"
      ],
      "execution_count": 10,
      "outputs": [
        {
          "output_type": "stream",
          "text": [
            "WARNING:root:Replacing existing CPD for Pollution\n",
            "WARNING:root:Replacing existing CPD for Smoker\n",
            "WARNING:root:Replacing existing CPD for Cancer\n"
          ],
          "name": "stderr"
        },
        {
          "output_type": "stream",
          "text": [
            "Model generated by adding conditional probability distributions(cpds)\n"
          ],
          "name": "stdout"
        }
      ]
    },
    {
      "cell_type": "code",
      "metadata": {
        "colab": {
          "base_uri": "https://localhost:8080/"
        },
        "id": "s4b7EPRd9qUE",
        "outputId": "14da0209-365f-4346-d4c2-ec8b258407f3"
      },
      "source": [
        "#Checking if the cpds are valid for the model\n",
        "\n",
        "print('Checking for correctness of model: ', end=\"\")\n",
        "print(cancer_model.check_model())"
      ],
      "execution_count": 11,
      "outputs": [
        {
          "output_type": "stream",
          "text": [
            "Checking for correctness of model: True\n"
          ],
          "name": "stdout"
        }
      ]
    },
    {
      "cell_type": "code",
      "metadata": {
        "colab": {
          "base_uri": "https://localhost:8080/"
        },
        "id": "0Xhieehc-0xe",
        "outputId": "58f5ab3c-36c5-462c-ff5b-bff798f19167"
      },
      "source": [
        "#print('All local dependencies are as follows: \\n',cancer_model.get_independencies())\n",
        "\n",
        "print(\"Displaying CPDs\")\n",
        "print(cancer_model.get_cpds('Pollution'))\n",
        "print(cancer_model.get_cpds('Smoker'))\n",
        "print(cancer_model.get_cpds('Cancer'))\n",
        "print(cancer_model.get_cpds('XRay'))\n",
        "print(cancer_model.get_cpds('Dyspnoea'))"
      ],
      "execution_count": 26,
      "outputs": [
        {
          "output_type": "stream",
          "text": [
            "All local dependencies are as follows: \n",
            " (Pollution ⟂ Smoker)\n",
            "(Pollution ⟂ XRay, Dyspnoea | Cancer)\n",
            "(Pollution ⟂ Dyspnoea | XRay, Cancer)\n",
            "(Pollution ⟂ XRay, Dyspnoea | Smoker, Cancer)\n",
            "(Pollution ⟂ XRay | Dyspnoea, Cancer)\n",
            "(Pollution ⟂ Dyspnoea | XRay, Smoker, Cancer)\n",
            "(Pollution ⟂ XRay | Smoker, Dyspnoea, Cancer)\n",
            "(Smoker ⟂ Pollution)\n",
            "(Smoker ⟂ XRay, Dyspnoea | Cancer)\n",
            "(Smoker ⟂ Dyspnoea | XRay, Cancer)\n",
            "(Smoker ⟂ XRay | Dyspnoea, Cancer)\n",
            "(Smoker ⟂ XRay, Dyspnoea | Pollution, Cancer)\n",
            "(Smoker ⟂ Dyspnoea | XRay, Pollution, Cancer)\n",
            "(Smoker ⟂ XRay | Dyspnoea, Pollution, Cancer)\n",
            "(XRay ⟂ Smoker, Pollution, Dyspnoea | Cancer)\n",
            "(XRay ⟂ Dyspnoea, Pollution | Smoker, Cancer)\n",
            "(XRay ⟂ Smoker, Dyspnoea | Pollution, Cancer)\n",
            "(XRay ⟂ Smoker, Pollution | Dyspnoea, Cancer)\n",
            "(XRay ⟂ Dyspnoea | Smoker, Pollution, Cancer)\n",
            "(XRay ⟂ Pollution | Smoker, Dyspnoea, Cancer)\n",
            "(XRay ⟂ Smoker | Dyspnoea, Pollution, Cancer)\n",
            "(Dyspnoea ⟂ XRay, Smoker, Pollution | Cancer)\n",
            "(Dyspnoea ⟂ Smoker, Pollution | XRay, Cancer)\n",
            "(Dyspnoea ⟂ XRay, Pollution | Smoker, Cancer)\n",
            "(Dyspnoea ⟂ XRay, Smoker | Pollution, Cancer)\n",
            "(Dyspnoea ⟂ Pollution | XRay, Smoker, Cancer)\n",
            "(Dyspnoea ⟂ Smoker | XRay, Pollution, Cancer)\n",
            "(Dyspnoea ⟂ XRay | Smoker, Pollution, Cancer)\n",
            "Displaying CPDs\n",
            "+--------------+-----+\n",
            "| Pollution(0) | 0.9 |\n",
            "+--------------+-----+\n",
            "| Pollution(1) | 0.1 |\n",
            "+--------------+-----+\n",
            "+-----------+-----+\n",
            "| Smoker(0) | 0.3 |\n",
            "+-----------+-----+\n",
            "| Smoker(1) | 0.7 |\n",
            "+-----------+-----+\n",
            "+-----------+--------------+--------------+--------------+--------------+\n",
            "| Smoker    | Smoker(0)    | Smoker(0)    | Smoker(1)    | Smoker(1)    |\n",
            "+-----------+--------------+--------------+--------------+--------------+\n",
            "| Pollution | Pollution(0) | Pollution(1) | Pollution(0) | Pollution(1) |\n",
            "+-----------+--------------+--------------+--------------+--------------+\n",
            "| Cancer(0) | 0.03         | 0.05         | 0.001        | 0.02         |\n",
            "+-----------+--------------+--------------+--------------+--------------+\n",
            "| Cancer(1) | 0.97         | 0.95         | 0.999        | 0.98         |\n",
            "+-----------+--------------+--------------+--------------+--------------+\n",
            "+---------+-----------+-----------+\n",
            "| Cancer  | Cancer(0) | Cancer(1) |\n",
            "+---------+-----------+-----------+\n",
            "| XRay(0) | 0.9       | 0.2       |\n",
            "+---------+-----------+-----------+\n",
            "| XRay(1) | 0.1       | 0.8       |\n",
            "+---------+-----------+-----------+\n",
            "+-------------+-----------+-----------+\n",
            "| Cancer      | Cancer(0) | Cancer(1) |\n",
            "+-------------+-----------+-----------+\n",
            "| Dyspnoea(0) | 0.65      | 0.3       |\n",
            "+-------------+-----------+-----------+\n",
            "| Dyspnoea(1) | 0.35      | 0.7       |\n",
            "+-------------+-----------+-----------+\n"
          ],
          "name": "stdout"
        }
      ]
    },
    {
      "cell_type": "code",
      "metadata": {
        "id": "4muWIeeN_RTi"
      },
      "source": [
        "#Inferencing with Bayesian Network\n",
        "\n",
        "#Computing the probability of Cancer given smoke.\n",
        "cancer_infer = VariableElimination(cancer_model)"
      ],
      "execution_count": 13,
      "outputs": []
    },
    {
      "cell_type": "code",
      "metadata": {
        "colab": {
          "base_uri": "https://localhost:8080/"
        },
        "id": "WzTjQ5nQ_Xms",
        "outputId": "0d996fcf-7ca9-445a-fd09-8a6988ddd525"
      },
      "source": [
        "print(\"\\nInferencing with Bayesian Network\")\n",
        "\n",
        "print(\"\\nProbability of Cancer given Smoker\")\n",
        "q = cancer_infer.query(variables=['Cancer'], evidence={'Smoker':1})\n",
        "print(q)"
      ],
      "execution_count": 19,
      "outputs": [
        {
          "output_type": "stream",
          "text": [
            "Finding Elimination Order: : 100%|██████████| 3/3 [00:00<00:00, 845.40it/s]\n",
            "Eliminating: Pollution: 100%|██████████| 3/3 [00:00<00:00, 349.91it/s]"
          ],
          "name": "stderr"
        },
        {
          "output_type": "stream",
          "text": [
            "\n",
            "Inferencing with Bayesian Network\n",
            "\n",
            "Probability of Cancer given Smoker\n",
            "+-----------+---------------+\n",
            "| Cancer    |   phi(Cancer) |\n",
            "+===========+===============+\n",
            "| Cancer(0) |        0.0029 |\n",
            "+-----------+---------------+\n",
            "| Cancer(1) |        0.9971 |\n",
            "+-----------+---------------+\n"
          ],
          "name": "stdout"
        },
        {
          "output_type": "stream",
          "text": [
            "\n"
          ],
          "name": "stderr"
        }
      ]
    },
    {
      "cell_type": "code",
      "metadata": {
        "colab": {
          "base_uri": "https://localhost:8080/"
        },
        "id": "-kh0pKZfAM4_",
        "outputId": "63377b25-57ca-431e-bc2e-116a7b00c18d"
      },
      "source": [
        "print(\"\\nProbability of Cancer given Smoker, Pollution\")\n",
        "q = cancer_infer.query(variables=['Cancer'], evidence={'Smoker':1, 'Pollution': 1})\n",
        "print(q)"
      ],
      "execution_count": 18,
      "outputs": [
        {
          "output_type": "stream",
          "text": [
            "Finding Elimination Order: : 100%|██████████| 2/2 [00:00<00:00, 280.23it/s]\n",
            "Eliminating: Dyspnoea: 100%|██████████| 2/2 [00:00<00:00, 227.22it/s]"
          ],
          "name": "stderr"
        },
        {
          "output_type": "stream",
          "text": [
            "\n",
            "Probability of Cancer given Smoker, Pollution\n",
            "+-----------+---------------+\n",
            "| Cancer    |   phi(Cancer) |\n",
            "+===========+===============+\n",
            "| Cancer(0) |        0.0200 |\n",
            "+-----------+---------------+\n",
            "| Cancer(1) |        0.9800 |\n",
            "+-----------+---------------+\n"
          ],
          "name": "stdout"
        },
        {
          "output_type": "stream",
          "text": [
            "\n"
          ],
          "name": "stderr"
        }
      ]
    }
  ]
}
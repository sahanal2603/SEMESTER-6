{
  "nbformat": 4,
  "nbformat_minor": 0,
  "metadata": {
    "colab": {
      "name": "KMeansClustering without graphical representation.ipynb",
      "provenance": [],
      "collapsed_sections": []
    },
    "kernelspec": {
      "name": "python3",
      "display_name": "Python 3"
    },
    "language_info": {
      "name": "python"
    }
  },
  "cells": [
    {
      "cell_type": "markdown",
      "metadata": {
        "id": "_I_OUs_uMSJu"
      },
      "source": [
        "DATASET: https://www.kaggle.com/julianjose/minute-weather?select=minute_weather.csv"
      ]
    },
    {
      "cell_type": "code",
      "metadata": {
        "id": "NmDtLa3sGD_t"
      },
      "source": [
        "from sklearn.preprocessing import StandardScaler\n",
        "from sklearn.cluster import KMeans\n",
        "import pandas as pd\n",
        "import numpy as np\n",
        "from itertools import cycle, islice"
      ],
      "execution_count": 1,
      "outputs": []
    },
    {
      "cell_type": "code",
      "metadata": {
        "colab": {
          "base_uri": "https://localhost:8080/"
        },
        "id": "rqdlgMxnGPTU",
        "outputId": "2bb870c2-a099-459b-de1d-a24626a76626"
      },
      "source": [
        "from google.colab import drive\n",
        "drive.mount(\"/content/drive\")"
      ],
      "execution_count": 2,
      "outputs": [
        {
          "output_type": "stream",
          "text": [
            "Mounted at /content/drive\n"
          ],
          "name": "stdout"
        }
      ]
    },
    {
      "cell_type": "code",
      "metadata": {
        "id": "OD6hc6kaGSax"
      },
      "source": [
        "data = pd.read_csv('/content/minute_weather.csv')"
      ],
      "execution_count": 3,
      "outputs": []
    },
    {
      "cell_type": "code",
      "metadata": {
        "colab": {
          "base_uri": "https://localhost:8080/"
        },
        "id": "j01BfPVvIh1q",
        "outputId": "6f045369-32b6-4983-e188-0b9521a1ab7f"
      },
      "source": [
        "data.shape"
      ],
      "execution_count": 4,
      "outputs": [
        {
          "output_type": "execute_result",
          "data": {
            "text/plain": [
              "(65989, 13)"
            ]
          },
          "metadata": {
            "tags": []
          },
          "execution_count": 4
        }
      ]
    },
    {
      "cell_type": "code",
      "metadata": {
        "colab": {
          "base_uri": "https://localhost:8080/",
          "height": 299
        },
        "id": "2hxS_m7dInPg",
        "outputId": "ccb2827d-a7e9-409b-a087-b01ae042d624"
      },
      "source": [
        "data.head()"
      ],
      "execution_count": 5,
      "outputs": [
        {
          "output_type": "execute_result",
          "data": {
            "text/html": [
              "<div>\n",
              "<style scoped>\n",
              "    .dataframe tbody tr th:only-of-type {\n",
              "        vertical-align: middle;\n",
              "    }\n",
              "\n",
              "    .dataframe tbody tr th {\n",
              "        vertical-align: top;\n",
              "    }\n",
              "\n",
              "    .dataframe thead th {\n",
              "        text-align: right;\n",
              "    }\n",
              "</style>\n",
              "<table border=\"1\" class=\"dataframe\">\n",
              "  <thead>\n",
              "    <tr style=\"text-align: right;\">\n",
              "      <th></th>\n",
              "      <th>rowID</th>\n",
              "      <th>hpwren_timestamp</th>\n",
              "      <th>air_pressure</th>\n",
              "      <th>air_temp</th>\n",
              "      <th>avg_wind_direction</th>\n",
              "      <th>avg_wind_speed</th>\n",
              "      <th>max_wind_direction</th>\n",
              "      <th>max_wind_speed</th>\n",
              "      <th>min_wind_direction</th>\n",
              "      <th>min_wind_speed</th>\n",
              "      <th>rain_accumulation</th>\n",
              "      <th>rain_duration</th>\n",
              "      <th>relative_humidity</th>\n",
              "    </tr>\n",
              "  </thead>\n",
              "  <tbody>\n",
              "    <tr>\n",
              "      <th>0</th>\n",
              "      <td>0</td>\n",
              "      <td>2011-09-10 00:00:49</td>\n",
              "      <td>912.3</td>\n",
              "      <td>64.76</td>\n",
              "      <td>97.0</td>\n",
              "      <td>1.2</td>\n",
              "      <td>106.0</td>\n",
              "      <td>1.6</td>\n",
              "      <td>85.0</td>\n",
              "      <td>1.0</td>\n",
              "      <td>NaN</td>\n",
              "      <td>NaN</td>\n",
              "      <td>60.5</td>\n",
              "    </tr>\n",
              "    <tr>\n",
              "      <th>1</th>\n",
              "      <td>1</td>\n",
              "      <td>2011-09-10 00:01:49</td>\n",
              "      <td>912.3</td>\n",
              "      <td>63.86</td>\n",
              "      <td>161.0</td>\n",
              "      <td>0.8</td>\n",
              "      <td>215.0</td>\n",
              "      <td>1.5</td>\n",
              "      <td>43.0</td>\n",
              "      <td>0.2</td>\n",
              "      <td>0.0</td>\n",
              "      <td>0.0</td>\n",
              "      <td>39.9</td>\n",
              "    </tr>\n",
              "    <tr>\n",
              "      <th>2</th>\n",
              "      <td>2</td>\n",
              "      <td>2011-09-10 00:02:49</td>\n",
              "      <td>912.3</td>\n",
              "      <td>64.22</td>\n",
              "      <td>77.0</td>\n",
              "      <td>0.7</td>\n",
              "      <td>143.0</td>\n",
              "      <td>1.2</td>\n",
              "      <td>324.0</td>\n",
              "      <td>0.3</td>\n",
              "      <td>0.0</td>\n",
              "      <td>0.0</td>\n",
              "      <td>43.0</td>\n",
              "    </tr>\n",
              "    <tr>\n",
              "      <th>3</th>\n",
              "      <td>3</td>\n",
              "      <td>2011-09-10 00:03:49</td>\n",
              "      <td>912.3</td>\n",
              "      <td>64.40</td>\n",
              "      <td>89.0</td>\n",
              "      <td>1.2</td>\n",
              "      <td>112.0</td>\n",
              "      <td>1.6</td>\n",
              "      <td>12.0</td>\n",
              "      <td>0.7</td>\n",
              "      <td>0.0</td>\n",
              "      <td>0.0</td>\n",
              "      <td>49.5</td>\n",
              "    </tr>\n",
              "    <tr>\n",
              "      <th>4</th>\n",
              "      <td>4</td>\n",
              "      <td>2011-09-10 00:04:49</td>\n",
              "      <td>912.3</td>\n",
              "      <td>64.40</td>\n",
              "      <td>185.0</td>\n",
              "      <td>0.4</td>\n",
              "      <td>260.0</td>\n",
              "      <td>1.0</td>\n",
              "      <td>100.0</td>\n",
              "      <td>0.1</td>\n",
              "      <td>0.0</td>\n",
              "      <td>0.0</td>\n",
              "      <td>58.8</td>\n",
              "    </tr>\n",
              "  </tbody>\n",
              "</table>\n",
              "</div>"
            ],
            "text/plain": [
              "   rowID     hpwren_timestamp  ...  rain_duration  relative_humidity\n",
              "0      0  2011-09-10 00:00:49  ...            NaN               60.5\n",
              "1      1  2011-09-10 00:01:49  ...            0.0               39.9\n",
              "2      2  2011-09-10 00:02:49  ...            0.0               43.0\n",
              "3      3  2011-09-10 00:03:49  ...            0.0               49.5\n",
              "4      4  2011-09-10 00:04:49  ...            0.0               58.8\n",
              "\n",
              "[5 rows x 13 columns]"
            ]
          },
          "metadata": {
            "tags": []
          },
          "execution_count": 5
        }
      ]
    },
    {
      "cell_type": "code",
      "metadata": {
        "colab": {
          "base_uri": "https://localhost:8080/"
        },
        "id": "nXtix34eIscd",
        "outputId": "ddfe33b3-0b4b-4333-f3c7-2198cf5c9a35"
      },
      "source": [
        "#data sampling\n",
        "sampled_df = data[(data['rowID'] % 10) == 0]\n",
        "sampled_df.shape"
      ],
      "execution_count": 6,
      "outputs": [
        {
          "output_type": "execute_result",
          "data": {
            "text/plain": [
              "(6599, 13)"
            ]
          },
          "metadata": {
            "tags": []
          },
          "execution_count": 6
        }
      ]
    },
    {
      "cell_type": "code",
      "metadata": {
        "colab": {
          "base_uri": "https://localhost:8080/",
          "height": 422
        },
        "id": "7e1wqt7vItki",
        "outputId": "407aa65a-2b97-484d-b397-8a3c2195f26f"
      },
      "source": [
        "sampled_df.describe().transpose()"
      ],
      "execution_count": 7,
      "outputs": [
        {
          "output_type": "execute_result",
          "data": {
            "text/html": [
              "<div>\n",
              "<style scoped>\n",
              "    .dataframe tbody tr th:only-of-type {\n",
              "        vertical-align: middle;\n",
              "    }\n",
              "\n",
              "    .dataframe tbody tr th {\n",
              "        vertical-align: top;\n",
              "    }\n",
              "\n",
              "    .dataframe thead th {\n",
              "        text-align: right;\n",
              "    }\n",
              "</style>\n",
              "<table border=\"1\" class=\"dataframe\">\n",
              "  <thead>\n",
              "    <tr style=\"text-align: right;\">\n",
              "      <th></th>\n",
              "      <th>count</th>\n",
              "      <th>mean</th>\n",
              "      <th>std</th>\n",
              "      <th>min</th>\n",
              "      <th>25%</th>\n",
              "      <th>50%</th>\n",
              "      <th>75%</th>\n",
              "      <th>max</th>\n",
              "    </tr>\n",
              "  </thead>\n",
              "  <tbody>\n",
              "    <tr>\n",
              "      <th>rowID</th>\n",
              "      <td>6599.0</td>\n",
              "      <td>32990.000000</td>\n",
              "      <td>19051.115453</td>\n",
              "      <td>0.00</td>\n",
              "      <td>16495.00</td>\n",
              "      <td>32990.00</td>\n",
              "      <td>49485.00</td>\n",
              "      <td>65980.00</td>\n",
              "    </tr>\n",
              "    <tr>\n",
              "      <th>air_pressure</th>\n",
              "      <td>6599.0</td>\n",
              "      <td>916.551114</td>\n",
              "      <td>1.683936</td>\n",
              "      <td>910.80</td>\n",
              "      <td>915.30</td>\n",
              "      <td>916.60</td>\n",
              "      <td>917.80</td>\n",
              "      <td>920.70</td>\n",
              "    </tr>\n",
              "    <tr>\n",
              "      <th>air_temp</th>\n",
              "      <td>6599.0</td>\n",
              "      <td>68.298409</td>\n",
              "      <td>9.638098</td>\n",
              "      <td>45.68</td>\n",
              "      <td>62.96</td>\n",
              "      <td>70.34</td>\n",
              "      <td>75.56</td>\n",
              "      <td>90.68</td>\n",
              "    </tr>\n",
              "    <tr>\n",
              "      <th>avg_wind_direction</th>\n",
              "      <td>6596.0</td>\n",
              "      <td>149.827320</td>\n",
              "      <td>98.709646</td>\n",
              "      <td>0.00</td>\n",
              "      <td>50.00</td>\n",
              "      <td>172.00</td>\n",
              "      <td>212.00</td>\n",
              "      <td>359.00</td>\n",
              "    </tr>\n",
              "    <tr>\n",
              "      <th>avg_wind_speed</th>\n",
              "      <td>6596.0</td>\n",
              "      <td>2.208187</td>\n",
              "      <td>1.489220</td>\n",
              "      <td>0.00</td>\n",
              "      <td>1.10</td>\n",
              "      <td>1.90</td>\n",
              "      <td>3.00</td>\n",
              "      <td>23.40</td>\n",
              "    </tr>\n",
              "    <tr>\n",
              "      <th>max_wind_direction</th>\n",
              "      <td>6596.0</td>\n",
              "      <td>151.588235</td>\n",
              "      <td>95.102894</td>\n",
              "      <td>0.00</td>\n",
              "      <td>56.00</td>\n",
              "      <td>178.00</td>\n",
              "      <td>218.00</td>\n",
              "      <td>359.00</td>\n",
              "    </tr>\n",
              "    <tr>\n",
              "      <th>max_wind_speed</th>\n",
              "      <td>6596.0</td>\n",
              "      <td>2.725606</td>\n",
              "      <td>1.730347</td>\n",
              "      <td>0.10</td>\n",
              "      <td>1.50</td>\n",
              "      <td>2.40</td>\n",
              "      <td>3.60</td>\n",
              "      <td>24.50</td>\n",
              "    </tr>\n",
              "    <tr>\n",
              "      <th>min_wind_direction</th>\n",
              "      <td>6596.0</td>\n",
              "      <td>160.028502</td>\n",
              "      <td>103.468194</td>\n",
              "      <td>0.00</td>\n",
              "      <td>57.00</td>\n",
              "      <td>173.00</td>\n",
              "      <td>212.00</td>\n",
              "      <td>359.00</td>\n",
              "    </tr>\n",
              "    <tr>\n",
              "      <th>min_wind_speed</th>\n",
              "      <td>6596.0</td>\n",
              "      <td>1.676107</td>\n",
              "      <td>1.285630</td>\n",
              "      <td>0.00</td>\n",
              "      <td>0.80</td>\n",
              "      <td>1.40</td>\n",
              "      <td>2.30</td>\n",
              "      <td>21.60</td>\n",
              "    </tr>\n",
              "    <tr>\n",
              "      <th>rain_accumulation</th>\n",
              "      <td>6598.0</td>\n",
              "      <td>0.000030</td>\n",
              "      <td>0.000937</td>\n",
              "      <td>0.00</td>\n",
              "      <td>0.00</td>\n",
              "      <td>0.00</td>\n",
              "      <td>0.00</td>\n",
              "      <td>0.04</td>\n",
              "    </tr>\n",
              "    <tr>\n",
              "      <th>rain_duration</th>\n",
              "      <td>6598.0</td>\n",
              "      <td>0.075781</td>\n",
              "      <td>1.841124</td>\n",
              "      <td>0.00</td>\n",
              "      <td>0.00</td>\n",
              "      <td>0.00</td>\n",
              "      <td>0.00</td>\n",
              "      <td>60.00</td>\n",
              "    </tr>\n",
              "    <tr>\n",
              "      <th>relative_humidity</th>\n",
              "      <td>6599.0</td>\n",
              "      <td>45.595954</td>\n",
              "      <td>23.666880</td>\n",
              "      <td>5.10</td>\n",
              "      <td>27.55</td>\n",
              "      <td>36.90</td>\n",
              "      <td>60.30</td>\n",
              "      <td>92.30</td>\n",
              "    </tr>\n",
              "  </tbody>\n",
              "</table>\n",
              "</div>"
            ],
            "text/plain": [
              "                     count          mean  ...       75%       max\n",
              "rowID               6599.0  32990.000000  ...  49485.00  65980.00\n",
              "air_pressure        6599.0    916.551114  ...    917.80    920.70\n",
              "air_temp            6599.0     68.298409  ...     75.56     90.68\n",
              "avg_wind_direction  6596.0    149.827320  ...    212.00    359.00\n",
              "avg_wind_speed      6596.0      2.208187  ...      3.00     23.40\n",
              "max_wind_direction  6596.0    151.588235  ...    218.00    359.00\n",
              "max_wind_speed      6596.0      2.725606  ...      3.60     24.50\n",
              "min_wind_direction  6596.0    160.028502  ...    212.00    359.00\n",
              "min_wind_speed      6596.0      1.676107  ...      2.30     21.60\n",
              "rain_accumulation   6598.0      0.000030  ...      0.00      0.04\n",
              "rain_duration       6598.0      0.075781  ...      0.00     60.00\n",
              "relative_humidity   6599.0     45.595954  ...     60.30     92.30\n",
              "\n",
              "[12 rows x 8 columns]"
            ]
          },
          "metadata": {
            "tags": []
          },
          "execution_count": 7
        }
      ]
    },
    {
      "cell_type": "code",
      "metadata": {
        "colab": {
          "base_uri": "https://localhost:8080/"
        },
        "id": "zekwW6nOIxjk",
        "outputId": "e625f285-2919-4a90-db38-8ce7b075cb9f"
      },
      "source": [
        "sampled_df[sampled_df['rain_accumulation'] == 0].shape"
      ],
      "execution_count": 8,
      "outputs": [
        {
          "output_type": "execute_result",
          "data": {
            "text/plain": [
              "(6589, 13)"
            ]
          },
          "metadata": {
            "tags": []
          },
          "execution_count": 8
        }
      ]
    },
    {
      "cell_type": "code",
      "metadata": {
        "id": "mpM2UdgrI2_Z"
      },
      "source": [
        "del sampled_df['rain_accumulation']\n",
        "del sampled_df['rain_duration']"
      ],
      "execution_count": 9,
      "outputs": []
    },
    {
      "cell_type": "code",
      "metadata": {
        "id": "qCBDdjnTI4NN"
      },
      "source": [
        "rows_before = sampled_df.shape[0]\n",
        "sampled_df = sampled_df.dropna()\n",
        "rows_after = sampled_df.shape[0]"
      ],
      "execution_count": 10,
      "outputs": []
    },
    {
      "cell_type": "code",
      "metadata": {
        "colab": {
          "base_uri": "https://localhost:8080/"
        },
        "id": "OiweHzxNI79B",
        "outputId": "c331e232-071c-48fc-9dec-9e0bffc57856"
      },
      "source": [
        "rows_before - rows_after"
      ],
      "execution_count": 13,
      "outputs": [
        {
          "output_type": "execute_result",
          "data": {
            "text/plain": [
              "3"
            ]
          },
          "metadata": {
            "tags": []
          },
          "execution_count": 13
        }
      ]
    },
    {
      "cell_type": "code",
      "metadata": {
        "colab": {
          "base_uri": "https://localhost:8080/"
        },
        "id": "tFm5GXebJA7T",
        "outputId": "e1e01123-8b4c-442e-9f00-9e68fe042657"
      },
      "source": [
        "sampled_df.columns"
      ],
      "execution_count": 14,
      "outputs": [
        {
          "output_type": "execute_result",
          "data": {
            "text/plain": [
              "Index(['rowID', 'hpwren_timestamp', 'air_pressure', 'air_temp',\n",
              "       'avg_wind_direction', 'avg_wind_speed', 'max_wind_direction',\n",
              "       'max_wind_speed', 'min_wind_direction', 'min_wind_speed',\n",
              "       'relative_humidity'],\n",
              "      dtype='object')"
            ]
          },
          "metadata": {
            "tags": []
          },
          "execution_count": 14
        }
      ]
    },
    {
      "cell_type": "code",
      "metadata": {
        "id": "gWZ7pebhJO2A"
      },
      "source": [
        "features = ['air_pressure', 'air_temp', 'avg_wind_direction', 'avg_wind_speed', 'max_wind_direction', 'max_wind_speed','relative_humidity']"
      ],
      "execution_count": 15,
      "outputs": []
    },
    {
      "cell_type": "code",
      "metadata": {
        "id": "dCbd3l-0JR15"
      },
      "source": [
        "select_df = sampled_df[features]"
      ],
      "execution_count": 16,
      "outputs": []
    },
    {
      "cell_type": "code",
      "metadata": {
        "colab": {
          "base_uri": "https://localhost:8080/"
        },
        "id": "OTVdLWk7JURf",
        "outputId": "8c1c37a7-956a-47f7-b6ce-c6d517c83578"
      },
      "source": [
        "select_df.columns"
      ],
      "execution_count": 17,
      "outputs": [
        {
          "output_type": "execute_result",
          "data": {
            "text/plain": [
              "Index(['air_pressure', 'air_temp', 'avg_wind_direction', 'avg_wind_speed',\n",
              "       'max_wind_direction', 'max_wind_speed', 'relative_humidity'],\n",
              "      dtype='object')"
            ]
          },
          "metadata": {
            "tags": []
          },
          "execution_count": 17
        }
      ]
    },
    {
      "cell_type": "code",
      "metadata": {
        "colab": {
          "base_uri": "https://localhost:8080/",
          "height": 422
        },
        "id": "P4WWZ2eHJXf7",
        "outputId": "f30617a8-8ef5-47a1-983a-c794f78899ad"
      },
      "source": [
        "select_df"
      ],
      "execution_count": 18,
      "outputs": [
        {
          "output_type": "execute_result",
          "data": {
            "text/html": [
              "<div>\n",
              "<style scoped>\n",
              "    .dataframe tbody tr th:only-of-type {\n",
              "        vertical-align: middle;\n",
              "    }\n",
              "\n",
              "    .dataframe tbody tr th {\n",
              "        vertical-align: top;\n",
              "    }\n",
              "\n",
              "    .dataframe thead th {\n",
              "        text-align: right;\n",
              "    }\n",
              "</style>\n",
              "<table border=\"1\" class=\"dataframe\">\n",
              "  <thead>\n",
              "    <tr style=\"text-align: right;\">\n",
              "      <th></th>\n",
              "      <th>air_pressure</th>\n",
              "      <th>air_temp</th>\n",
              "      <th>avg_wind_direction</th>\n",
              "      <th>avg_wind_speed</th>\n",
              "      <th>max_wind_direction</th>\n",
              "      <th>max_wind_speed</th>\n",
              "      <th>relative_humidity</th>\n",
              "    </tr>\n",
              "  </thead>\n",
              "  <tbody>\n",
              "    <tr>\n",
              "      <th>0</th>\n",
              "      <td>912.3</td>\n",
              "      <td>64.76</td>\n",
              "      <td>97.0</td>\n",
              "      <td>1.2</td>\n",
              "      <td>106.0</td>\n",
              "      <td>1.6</td>\n",
              "      <td>60.5</td>\n",
              "    </tr>\n",
              "    <tr>\n",
              "      <th>10</th>\n",
              "      <td>912.3</td>\n",
              "      <td>62.24</td>\n",
              "      <td>144.0</td>\n",
              "      <td>1.2</td>\n",
              "      <td>167.0</td>\n",
              "      <td>1.8</td>\n",
              "      <td>38.5</td>\n",
              "    </tr>\n",
              "    <tr>\n",
              "      <th>20</th>\n",
              "      <td>912.2</td>\n",
              "      <td>63.32</td>\n",
              "      <td>100.0</td>\n",
              "      <td>2.0</td>\n",
              "      <td>122.0</td>\n",
              "      <td>2.5</td>\n",
              "      <td>58.3</td>\n",
              "    </tr>\n",
              "    <tr>\n",
              "      <th>30</th>\n",
              "      <td>912.2</td>\n",
              "      <td>62.60</td>\n",
              "      <td>91.0</td>\n",
              "      <td>2.0</td>\n",
              "      <td>103.0</td>\n",
              "      <td>2.4</td>\n",
              "      <td>57.9</td>\n",
              "    </tr>\n",
              "    <tr>\n",
              "      <th>40</th>\n",
              "      <td>912.2</td>\n",
              "      <td>64.04</td>\n",
              "      <td>81.0</td>\n",
              "      <td>2.6</td>\n",
              "      <td>88.0</td>\n",
              "      <td>2.9</td>\n",
              "      <td>57.4</td>\n",
              "    </tr>\n",
              "    <tr>\n",
              "      <th>...</th>\n",
              "      <td>...</td>\n",
              "      <td>...</td>\n",
              "      <td>...</td>\n",
              "      <td>...</td>\n",
              "      <td>...</td>\n",
              "      <td>...</td>\n",
              "      <td>...</td>\n",
              "    </tr>\n",
              "    <tr>\n",
              "      <th>65940</th>\n",
              "      <td>917.2</td>\n",
              "      <td>49.64</td>\n",
              "      <td>226.0</td>\n",
              "      <td>2.3</td>\n",
              "      <td>240.0</td>\n",
              "      <td>3.1</td>\n",
              "      <td>91.4</td>\n",
              "    </tr>\n",
              "    <tr>\n",
              "      <th>65950</th>\n",
              "      <td>917.3</td>\n",
              "      <td>49.82</td>\n",
              "      <td>208.0</td>\n",
              "      <td>1.6</td>\n",
              "      <td>223.0</td>\n",
              "      <td>2.4</td>\n",
              "      <td>91.5</td>\n",
              "    </tr>\n",
              "    <tr>\n",
              "      <th>65960</th>\n",
              "      <td>917.2</td>\n",
              "      <td>49.64</td>\n",
              "      <td>220.0</td>\n",
              "      <td>2.9</td>\n",
              "      <td>231.0</td>\n",
              "      <td>3.8</td>\n",
              "      <td>91.5</td>\n",
              "    </tr>\n",
              "    <tr>\n",
              "      <th>65970</th>\n",
              "      <td>917.1</td>\n",
              "      <td>49.82</td>\n",
              "      <td>217.0</td>\n",
              "      <td>2.4</td>\n",
              "      <td>233.0</td>\n",
              "      <td>2.7</td>\n",
              "      <td>91.5</td>\n",
              "    </tr>\n",
              "    <tr>\n",
              "      <th>65980</th>\n",
              "      <td>917.0</td>\n",
              "      <td>49.82</td>\n",
              "      <td>215.0</td>\n",
              "      <td>1.9</td>\n",
              "      <td>229.0</td>\n",
              "      <td>2.2</td>\n",
              "      <td>91.6</td>\n",
              "    </tr>\n",
              "  </tbody>\n",
              "</table>\n",
              "<p>6596 rows × 7 columns</p>\n",
              "</div>"
            ],
            "text/plain": [
              "       air_pressure  air_temp  ...  max_wind_speed  relative_humidity\n",
              "0             912.3     64.76  ...             1.6               60.5\n",
              "10            912.3     62.24  ...             1.8               38.5\n",
              "20            912.2     63.32  ...             2.5               58.3\n",
              "30            912.2     62.60  ...             2.4               57.9\n",
              "40            912.2     64.04  ...             2.9               57.4\n",
              "...             ...       ...  ...             ...                ...\n",
              "65940         917.2     49.64  ...             3.1               91.4\n",
              "65950         917.3     49.82  ...             2.4               91.5\n",
              "65960         917.2     49.64  ...             3.8               91.5\n",
              "65970         917.1     49.82  ...             2.7               91.5\n",
              "65980         917.0     49.82  ...             2.2               91.6\n",
              "\n",
              "[6596 rows x 7 columns]"
            ]
          },
          "metadata": {
            "tags": []
          },
          "execution_count": 18
        }
      ]
    },
    {
      "cell_type": "code",
      "metadata": {
        "colab": {
          "base_uri": "https://localhost:8080/"
        },
        "id": "D0KXLW-xJbE0",
        "outputId": "21f060c7-241f-482f-c87f-152a8a09e17b"
      },
      "source": [
        "X = StandardScaler().fit_transform(select_df)\n",
        "\n",
        "X"
      ],
      "execution_count": 20,
      "outputs": [
        {
          "output_type": "execute_result",
          "data": {
            "text/plain": [
              "array([[-2.52515769, -0.36820367, -0.53521947, ..., -0.47939332,\n",
              "        -0.65055822,  0.63107531],\n",
              "       [-2.52515769, -0.62983139, -0.05903943, ...,  0.16206587,\n",
              "        -0.53496573, -0.2991539 ],\n",
              "       [-2.58454731, -0.51770522, -0.504825  , ..., -0.31114173,\n",
              "        -0.13039204,  0.53805239],\n",
              "       ...,\n",
              "       [ 0.38493411, -1.93796997,  0.71095382, ...,  0.83507223,\n",
              "         0.62095911,  1.94185282],\n",
              "       [ 0.32554448, -1.91928228,  0.68055935, ...,  0.85610367,\n",
              "        -0.01479955,  1.94185282],\n",
              "       [ 0.26615485, -1.91928228,  0.66029637, ...,  0.81404078,\n",
              "        -0.30378076,  1.94608113]])"
            ]
          },
          "metadata": {
            "tags": []
          },
          "execution_count": 20
        }
      ]
    },
    {
      "cell_type": "code",
      "metadata": {
        "colab": {
          "base_uri": "https://localhost:8080/"
        },
        "id": "SEWyg-nOJggU",
        "outputId": "761036b0-0d0b-4637-8953-8220962b3c56"
      },
      "source": [
        "#Using kmeans clustering\n",
        "kmeans = KMeans(n_clusters=12)\n",
        "model = kmeans.fit(X)\n",
        "print(\"model\\n\", model)"
      ],
      "execution_count": 21,
      "outputs": [
        {
          "output_type": "stream",
          "text": [
            "model\n",
            " KMeans(algorithm='auto', copy_x=True, init='k-means++', max_iter=300,\n",
            "       n_clusters=12, n_init=10, n_jobs=None, precompute_distances='auto',\n",
            "       random_state=None, tol=0.0001, verbose=0)\n"
          ],
          "name": "stdout"
        }
      ]
    },
    {
      "cell_type": "code",
      "metadata": {
        "colab": {
          "base_uri": "https://localhost:8080/"
        },
        "id": "uWp9abHeJjUb",
        "outputId": "69ddf0ba-567c-4b48-986c-755070bd7ded"
      },
      "source": [
        "centers = model.cluster_centers_\n",
        "centers"
      ],
      "execution_count": 22,
      "outputs": [
        {
          "output_type": "execute_result",
          "data": {
            "text/plain": [
              "array([[-0.05791413,  0.63915391, -1.03866671,  1.20214432, -0.96598456,\n",
              "         1.20173192, -0.77021317],\n",
              "       [-0.65386525, -1.55020032,  0.01193414, -0.64475532,  0.09599329,\n",
              "        -0.67036252,  1.70568814],\n",
              "       [-0.0376301 ,  0.20266521,  0.53713061,  1.14013084,  0.62105317,\n",
              "         1.08886017,  0.09666561],\n",
              "       [-0.58068283,  0.32553868,  0.28089698, -0.74848886,  0.49920689,\n",
              "        -0.76018158, -0.33605807],\n",
              "       [ 0.91840533,  0.79850887,  0.33882659, -0.1970925 ,  0.52891143,\n",
              "        -0.17890345, -0.58100818],\n",
              "       [ 0.64828812, -1.36808968,  0.7473095 , -0.19525963,  0.9204461 ,\n",
              "        -0.16512816,  1.41022768],\n",
              "       [ 0.12010036,  0.34275927,  1.9371268 , -0.49074998, -1.35593736,\n",
              "        -0.36179107, -0.49694505],\n",
              "       [-2.08697811, -1.66403572,  0.54761443,  3.92466831,  0.68849329,\n",
              "         4.01049726,  1.71981474],\n",
              "       [-1.27376942, -1.62848482,  0.68529503,  1.24151814,  0.81585794,\n",
              "         1.27898488,  1.67782871],\n",
              "       [-0.02124602,  0.46421603,  1.56401092, -0.46827524,  1.84900682,\n",
              "        -0.37264437, -0.57815268],\n",
              "       [ 0.8851053 ,  0.31976344, -1.10953859, -0.32652822, -0.99398936,\n",
              "        -0.3530146 , -0.49519185],\n",
              "       [-0.75563388,  0.26548985, -1.12636485, -0.50599403, -1.01735423,\n",
              "        -0.54901037, -0.47624819]])"
            ]
          },
          "metadata": {
            "tags": []
          },
          "execution_count": 22
        }
      ]
    }
  ]
}